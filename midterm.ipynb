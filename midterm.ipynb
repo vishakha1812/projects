{
 "cells": [
  {
   "cell_type": "markdown",
   "metadata": {},
   "source": [
    "# Python Basics Examination\n",
    "\n",
    "Name: Vishakha Srivastava\n",
    "\n",
    "Email: vsrivastava@scu.edu"
   ]
  },
  {
   "cell_type": "markdown",
   "metadata": {},
   "source": [
    "## Question #1"
   ]
  },
  {
   "cell_type": "code",
   "execution_count": 1,
   "metadata": {},
   "outputs": [],
   "source": [
    " #run this cell to load 'baddata'\n",
    "baddata = [\n",
    "\"Zip Code\\tTotal Population\\tMedian Age\\tTotal Males\\tTotal Females\\tTotal Households\\tAverage Household Size\\t\",\n",
    "\"  90001\\t57110\\t26.6\\t28468\\t28642\\t12971\\t4.4 \",\n",
    "\"90002\\t51223\\t25.5\\t24876\\t26347\\t11731\\t4.36\\t\",\n",
    "\"\\t\\t\\t\\t90003\\t66266\\t26.3\\t32631\\t33635\\t15642\\t4.22  \"\n",
    "]"
   ]
  },
  {
   "cell_type": "markdown",
   "metadata": {},
   "source": [
    "# Solution 1: Modifying the bad data \n",
    "Using strip() function to remove the extra space in the end"
   ]
  },
  {
   "cell_type": "code",
   "execution_count": 2,
   "metadata": {},
   "outputs": [
    {
     "data": {
      "text/plain": [
       "['Zip Code\\tTotal Population\\tMedian Age\\tTotal Males\\tTotal Females\\tTotal Households\\tAverage Household Size',\n",
       " '90001\\t57110\\t26.6\\t28468\\t28642\\t12971\\t4.4',\n",
       " '90002\\t51223\\t25.5\\t24876\\t26347\\t11731\\t4.36',\n",
       " '90003\\t66266\\t26.3\\t32631\\t33635\\t15642\\t4.22']"
      ]
     },
     "execution_count": 2,
     "metadata": {},
     "output_type": "execute_result"
    }
   ],
   "source": [
    "## Student Response Goes Here\n",
    "gooddata = []\n",
    "for row in baddata:\n",
    "    gooddata.append(row.strip())\n",
    "\n",
    "gooddata\n",
    "## Student Response Goes Here"
   ]
  },
  {
   "cell_type": "markdown",
   "metadata": {},
   "source": [
    "## Question #2"
   ]
  },
  {
   "cell_type": "code",
   "execution_count": 4,
   "metadata": {},
   "outputs": [],
   "source": [
    "# data taken from data.gov\n",
    "# https://catalog.data.gov/dataset/demographic-statistics-by-zip-code-acfc9\n",
    "# https://data.cityofnewyork.us/api/views/kku6-nxdu/rows.csv?accessType=DOWNLOAD\n",
    "\n",
    "data = \"\"\"\n",
    "Zip Code**Total Population**Median Age**Total Males**Total Females**Total Households**Average Household Size\n",
    "90001**57110**26.6**28468**28642**12971**4.4\n",
    "90002**51223**25.5**24876**26347**11731**4.36\n",
    "90003**66266**26.3**32631**33635**15642**4.22\n",
    "\"\"\".strip()"
   ]
  },
  {
   "cell_type": "markdown",
   "metadata": {},
   "source": [
    "## A.) Solve with indexing, but no loops"
   ]
  },
  {
   "cell_type": "markdown",
   "metadata": {},
   "source": [
    "# Solution: Modifying data with indexing, no loops\n",
    "Using split() function to clean up data"
   ]
  },
  {
   "cell_type": "code",
   "execution_count": 5,
   "metadata": {},
   "outputs": [
    {
     "data": {
      "text/plain": [
       "[['Zip Code',\n",
       "  'Total Population',\n",
       "  'Median Age',\n",
       "  'Total Males',\n",
       "  'Total Females',\n",
       "  'Total Households',\n",
       "  'Average Household Size'],\n",
       " ['90001', '57110', '26.6', '28468', '28642', '12971', '4.4'],\n",
       " ['90002', '51223', '25.5', '24876', '26347', '11731', '4.36'],\n",
       " ['90003', '66266', '26.3', '32631', '33635', '15642', '4.22']]"
      ]
     },
     "execution_count": 5,
     "metadata": {},
     "output_type": "execute_result"
    }
   ],
   "source": [
    "## Student Response Goes Here\n",
    "new_data = [\n",
    "data.split('\\n')[0].split('**'),\n",
    "data.split('\\n')[1].split('**'),\n",
    "data.split('\\n')[2].split('**'),\n",
    "data.split('\\n')[3].split('**')\n",
    "    \n",
    "]\n",
    "\n",
    "new_data\n",
    "\n",
    "## Student Response Goes Here"
   ]
  },
  {
   "cell_type": "markdown",
   "metadata": {},
   "source": [
    "## B.) Solve with a FOR loop"
   ]
  },
  {
   "cell_type": "markdown",
   "metadata": {},
   "source": [
    "# Solution: Using FOR loop to solve the above problem\n",
    "For each row in data using split() function to clean up data"
   ]
  },
  {
   "cell_type": "code",
   "execution_count": 7,
   "metadata": {},
   "outputs": [
    {
     "data": {
      "text/plain": [
       "[['Zip Code',\n",
       "  'Total Population',\n",
       "  'Median Age',\n",
       "  'Total Males',\n",
       "  'Total Females',\n",
       "  'Total Households',\n",
       "  'Average Household Size'],\n",
       " ['90001', '57110', '26.6', '28468', '28642', '12971', '4.4'],\n",
       " ['90002', '51223', '25.5', '24876', '26347', '11731', '4.36'],\n",
       " ['90003', '66266', '26.3', '32631', '33635', '15642', '4.22']]"
      ]
     },
     "execution_count": 7,
     "metadata": {},
     "output_type": "execute_result"
    }
   ],
   "source": [
    "## Student Response Goes Here\n",
    "newdata = []\n",
    "for row in data.split('\\n'):\n",
    "    newdata.append(row.split('**'))\n",
    "newdata\n",
    "\n",
    "## Student Response Goes Here"
   ]
  },
  {
   "cell_type": "markdown",
   "metadata": {},
   "source": [
    "## Question #3\n",
    "Write a function that takes in a string, then converts it to Pig Latin\n",
    "\n",
    "Rules:\n",
    "\n",
    "For words that begin with consonant sounds, all letters before the initial vowel are placed at the end of the word sequence. Then, \"ay\" is added, as in the following examples:[12]\n",
    "\n",
    "* \"pig\" = \"igpay\"\n",
    "* \"latin\" = \"atinlay\"\n",
    "* \"banana\" = \"ananabay\"\n",
    "\n",
    "For words that begin with vowel sounds, one just adds \"way\" or \"ay\" to the end. Examples are:\n",
    "\n",
    "* \"eat\" = \"eatay\"\n",
    "* \"omelet\" = \"omeletay\""
   ]
  },
  {
   "cell_type": "markdown",
   "metadata": {},
   "source": [
    "# Solution 3: Function that takes up a string and coverts it into Pig Latin\n",
    "Comparing each letter of the input string with the vowel list to check whether it is a consonant"
   ]
  },
  {
   "cell_type": "code",
   "execution_count": 10,
   "metadata": {},
   "outputs": [
    {
     "data": {
      "text/plain": [
       "'ishakhavay'"
      ]
     },
     "execution_count": 10,
     "metadata": {},
     "output_type": "execute_result"
    }
   ],
   "source": [
    "## Student Response Goes Here\n",
    "def pig_latin(word):\n",
    "    letters = list(word.strip())\n",
    "    vowels = list('aeiou')\n",
    "    index = 0\n",
    "    for i,letter in enumerate(letters):\n",
    "        if letter in vowels:\n",
    "            index = i\n",
    "            break\n",
    "    return word[index:] + word[:index] + 'ay'\n",
    "    \n",
    "    \n",
    "pig_latin('vishakha')\n",
    "## Student Response Goes Here"
   ]
  },
  {
   "cell_type": "markdown",
   "metadata": {},
   "source": [
    "## Question #4\n",
    "Write a function that takes in a user input (done for you below) and calculates all the squares up to that number.\n",
    "\n",
    "For example, if the input is 4, the output should be:[1,4,9,16]"
   ]
  },
  {
   "cell_type": "markdown",
   "metadata": {},
   "source": [
    "# Solution 4: Function that calculates the square upto the given input\n"
   ]
  },
  {
   "cell_type": "code",
   "execution_count": 11,
   "metadata": {},
   "outputs": [
    {
     "name": "stdout",
     "output_type": "stream",
     "text": [
      "How many squared numbers would you like? (Make sure you enter a valid int!):\n",
      " 7\n",
      "Your result is :\n",
      "[1, 4, 9, 16, 25, 36, 49]\n"
     ]
    }
   ],
   "source": [
    "## Student Response Goes Here\n",
    "## Function creates a list of squared ints through a specific range\n",
    "def squared_upto(z):\n",
    "    # Student Response Goes Here\n",
    "    \n",
    "    squares = [x**2 for x in range(1,z+1)]\n",
    "    return squares\n",
    "    \n",
    "    # Student Response Goes Here\n",
    "\n",
    "    \n",
    "# Let's test your answer (this part is done for you):\n",
    "\n",
    "## Asks the user for an input to how many square numbers they would like\n",
    "userinput = input(\"How many squared numbers would you like? (Make sure you enter a valid int!):\\n \")\n",
    "## Takes the user input and puts it through the squared function while saving the result under answer\n",
    "answer = squared_upto(int(userinput)) \n",
    "## Prints the user their desired amount of numbers squared \n",
    "print(\"Your result is :\\n{}\".format(answer))\n"
   ]
  },
  {
   "cell_type": "markdown",
   "metadata": {},
   "source": [
    "## Question #5"
   ]
  },
  {
   "cell_type": "markdown",
   "metadata": {},
   "source": [
    "Write a simple OOP version of Black Jack, using this class definition:\n",
    "https://github.com/denisvrdoljak/OMIS30_Fall2018/blob/master/ClassesAndGames/deckofcards.py\n",
    "\n",
    "* Only allow the user to take 2 actions, Hit and Stand. \n",
    "* Automate the dealer play (dealer should Hit until 17 then stand). \n",
    "* Make sure you loop indefinitely until the user chooses to quit, or runs out of chips. \n",
    "* Start the user with 100 chips.\n",
    "\n",
    "Hint: if you use the classes defined for you, you only have to define a simple gameplay algorithm in the main() function. If you are unsure about the rules or algorithm, make sure to define what you intend to do in a markdown cell below!\n",
    "\n",
    "Do not change the class definitions. You may make new classes if you want to (you don't need to)."
   ]
  },
  {
   "cell_type": "markdown",
   "metadata": {},
   "source": [
    "# Importing class definitions from the source"
   ]
  },
  {
   "cell_type": "code",
   "execution_count": 12,
   "metadata": {},
   "outputs": [
    {
     "name": "stdout",
     "output_type": "stream",
     "text": [
      "=== === testing deal card function=== ===\n",
      "\n",
      "Testing the card deck:\n",
      "(Dealing the whole deck)\n",
      "A♣ A♦ A♥ A♠ K♣ K♦ K♥ K♠ Q♣ Q♦ Q♥ Q♠ J♣ J♦ J♥ J♠ 10♣ 10♦ 10♥ 10♠ 9♣ 9♦ 9♥ 9♠ 8♣ 8♦ 8♥ 8♠ 7♣ 7♦ 7♥ 7♠ 6♣ 6♦ 6♥ 6♠ 5♣ 5♦ 5♥ 5♠ 4♣ 4♦ 4♥ 4♠ 3♣ 3♦ 3♥ 3♠ 2♣ 2♦ 2♥ 2♠ "
     ]
    }
   ],
   "source": [
    "#!/usr/bin/env python3\n",
    "# -*- coding: utf-8 -*-\n",
    "\"\"\"\n",
    "Created on Mon Oct  8 09:46:56 2018\n",
    "@author: denisvrdoljak\n",
    "\"\"\"\n",
    "\n",
    "\n",
    "import random\n",
    "\n",
    "class Card:\n",
    "    possiblesuits = ('Spade', 'Heart', 'Diamond', 'Club')\n",
    "    suitsymbols = {text: symbol for text, symbol in zip(('Spade', 'Heart', 'Diamond', 'Club'), ['\\u2660', '\\u2665', '\\u2666', '\\u2663'])}\n",
    "    possiblecardvalues = [str(n) for n in range(2, 11)] + ['J', 'Q', 'K','A']\n",
    "\n",
    "    def __init__(self,suit,cardvalue):\n",
    "        if suit.title() not in self.possiblesuits:\n",
    "            raise ValueError(\"'{}' is not a valid suit. Valid suits are -- {} -- passed in as a string\".format(suit,self.possiblesuits))\n",
    "        if cardvalue.upper() not in self.possiblecardvalues:\n",
    "            raise ValueError(\"'{}' is not a valid card value. Valid suits are -- {} -- passed in as a string\".format(cardvalue, self.possiblecardvalues))\n",
    "        self.value = cardvalue.upper()\n",
    "        self.suit = suit.title()\n",
    "        self.suitsymbol = self.suitsymbols[self.suit]\n",
    "\n",
    "    def __repr__(self):\n",
    "        return '{}{}'.format(self.value, self.suitsymbol)\n",
    "\n",
    "class Deck:\n",
    "    def __init__(self):\n",
    "        self.loadnewdeck()\n",
    "        self.shuffledeck()\n",
    "\n",
    "    def loadnewdeck(self):\n",
    "        self.deck = list()\n",
    "        for value in Card.possiblecardvalues:\n",
    "            for suit in Card.possiblesuits:\n",
    "                self.deck.append(Card(suit,value))\n",
    "\n",
    "    def shuffledeck(self):\n",
    "        random.shuffle(self.deck)\n",
    "\n",
    "    def cardsleftindeck(self):\n",
    "        return len(self.deck)\n",
    "\n",
    "    def dealcard(self):\n",
    "        return self.deck.pop()\n",
    "\n",
    "if __name__ == \"__main__\":\n",
    "    print(\"=== === testing deal card function=== ===\")\n",
    "\n",
    "    #random.seed(5)\n",
    "    # remove seed when done testing\n",
    "    print(\"\\nTesting the card deck:\")\n",
    "    testdeck = Deck()\n",
    "    testdeck.loadnewdeck()\n",
    "    #testdeck.shuffledeck()\n",
    "    print(\"(Dealing the whole deck)\")\n",
    "    while testdeck.cardsleftindeck() > 0:\n",
    "        card = testdeck.dealcard()\n",
    "        print(card,end=\" \")"
   ]
  },
  {
   "cell_type": "markdown",
   "metadata": {},
   "source": [
    "# Solution 5:  1.) Function that takes deck as input and return the hand"
   ]
  },
  {
   "cell_type": "code",
   "execution_count": 13,
   "metadata": {},
   "outputs": [],
   "source": [
    "deck = [2, 3, 4, 5, 6, 7, 8, 9, 10, 11, 12, 13, 14]*4\n",
    "def dealcard(deck):\n",
    "    hand = []\n",
    "    for i in range(2):\n",
    "\t    random.shuffle(deck)\n",
    "\t    card = deck.pop()\n",
    "\t    if card == 11:card = \"J\"\n",
    "\t    if card == 12:card = \"Q\"\n",
    "\t    if card == 13:card = \"K\"\n",
    "\t    if card == 14:card = \"A\"\n",
    "\t    hand.append(card)\n",
    "    return hand"
   ]
  },
  {
   "cell_type": "markdown",
   "metadata": {},
   "source": [
    "# 2.) Function that calculates the total "
   ]
  },
  {
   "cell_type": "code",
   "execution_count": 14,
   "metadata": {},
   "outputs": [],
   "source": [
    "def total(hand):\n",
    "    total = 0\n",
    "    for card in hand:\n",
    "\t    if card == \"J\" or card == \"Q\" or card == \"K\":\n",
    "\t        total+= 10\n",
    "\t    elif card == \"A\":\n",
    "\t        if total >= 11: total+= 1\n",
    "\t    else: total+= 11\n",
    "\n",
    "    return total"
   ]
  },
  {
   "cell_type": "markdown",
   "metadata": {},
   "source": [
    "# 3.) Function that prints the final result"
   ]
  },
  {
   "cell_type": "code",
   "execution_count": 15,
   "metadata": {},
   "outputs": [],
   "source": [
    "def blackjack(dealer_hand, player_hand):\n",
    "\tif total(player_hand) == 21:\n",
    "\t\tprint (\"Congratulations! You got a Blackjack!\\n\")\n",
    "\telif total(dealer_hand) == 21:\n",
    "\t\tprint (\"Sorry, you lose. The dealer got a blackjack.\\n\")\n"
   ]
  },
  {
   "cell_type": "markdown",
   "metadata": {},
   "source": [
    "# 4.) Function which calculates the final score"
   ]
  },
  {
   "cell_type": "code",
   "execution_count": 16,
   "metadata": {},
   "outputs": [],
   "source": [
    "def score(dealer_hand, player_hand):\n",
    "    if total(player_hand) == 21:\n",
    "        print_results(dealer_hand, player_hand)\n",
    "        print(\"Congratulations! You got a Blackjack!\\n\")\n",
    "    elif total(dealer_hand) == 21:\n",
    "        print_results(dealer_hand, player_hand)\n",
    "        print(\"Sorry, you lose. The dealer got a blackjack.\\n\")\n",
    "    elif total(player_hand) > 21:\n",
    "        print_results(dealer_hand, player_hand)\n",
    "        print(\"Sorry. You busted. You lose.\\n\")\n",
    "    elif total(dealer_hand) > 21:\n",
    "        print_results(dealer_hand, player_hand)  \n",
    "        print(\"Dealer busts. You win!\\n\")\n",
    "    elif total(player_hand) < total(dealer_hand):\n",
    "        print_results(dealer_hand, player_hand)\n",
    "        print(\"Sorry. Your score isn't higher than the dealer. You lose.\\n\")\n",
    "    elif total(player_hand) > total(dealer_hand):\n",
    "        print_results(dealer_hand, player_hand)  \n",
    "        print(\"Congratulations. Your score is higher than the dealer. You win\")"
   ]
  },
  {
   "cell_type": "markdown",
   "metadata": {},
   "source": [
    "# 5.) Function that prints dealers/players total hand"
   ]
  },
  {
   "cell_type": "code",
   "execution_count": null,
   "metadata": {},
   "outputs": [],
   "source": [
    "def print_results(dealer_hand, player_hand):\n",
    "    print (\"The dealer has a \" + str(dealer_hand) + \" for a total of \" + str(total(dealer_hand)))\n",
    "    print (\"You have a \" + str(player_hand) + \" for a total of \" + str(total(player_hand)))"
   ]
  },
  {
   "cell_type": "markdown",
   "metadata": {},
   "source": [
    "# Main Function"
   ]
  },
  {
   "cell_type": "code",
   "execution_count": 17,
   "metadata": {},
   "outputs": [],
   "source": [
    "def maingameplay():\n",
    "    # Student answer goes here\n",
    "\n",
    "    print(\"WELCOME TO BLACKJACK!\")   \n",
    "    \n",
    "    dealer_hand = dealcard(deck)\n",
    "    player_hand = dealcard(deck)\n",
    "    \n",
    "    #Asks for user input\n",
    "    choice = input(\"Do you want to [H]it, [S]tand, or [Q]uit: \").lower()\n",
    "    \n",
    "    #executes statements based on user's choice\n",
    "    while choice != \"q\":\n",
    "        print (\"The dealer is showing a \" + str(dealer_hand[0]))\n",
    "        print (\"You have a \" + str(player_hand) + \" for a total of \" + str(total(player_hand)))\n",
    "    blackjack(dealer_hand, player_hand)\n",
    "    \n",
    "    #Player chooses to Hit\n",
    "    if choice == \"h\":\n",
    "        hit(player_hand)\n",
    "        while total(dealer_hand) < 17:\n",
    "                hit(dealer_hand)\n",
    "                score(dealer_hand, player_hand)\n",
    "                play_again()\n",
    "                \n",
    "    #Player chooses to Stand\n",
    "    elif choice == \"s\":\n",
    "        while total(dealer_hand) < 17:\n",
    "                hit(dealer_hand)\n",
    "                score(dealer_hand, player_hand)\n",
    "                play_again()\n",
    "                \n",
    "    #Player chooses to Quit\n",
    "    elif choice == \"q\":\n",
    "        print (\"Bye!\")\n",
    "        exit()\n",
    "\n",
    "    # Student answer goes here\n"
   ]
  },
  {
   "cell_type": "code",
   "execution_count": 18,
   "metadata": {},
   "outputs": [
    {
     "name": "stdout",
     "output_type": "stream",
     "text": [
      "WELCOME TO BLACKJACK!\n",
      "Do you want to [H]it, [S]tand, or [Q]uit: q\n",
      "Bye!\n"
     ]
    }
   ],
   "source": [
    "maingameplay()"
   ]
  },
  {
   "cell_type": "code",
   "execution_count": null,
   "metadata": {},
   "outputs": [],
   "source": []
  },
  {
   "cell_type": "code",
   "execution_count": null,
   "metadata": {},
   "outputs": [],
   "source": []
  }
 ],
 "metadata": {
  "kernelspec": {
   "display_name": "Python 3",
   "language": "python",
   "name": "python3"
  },
  "language_info": {
   "codemirror_mode": {
    "name": "ipython",
    "version": 3
   },
   "file_extension": ".py",
   "mimetype": "text/x-python",
   "name": "python",
   "nbconvert_exporter": "python",
   "pygments_lexer": "ipython3",
   "version": "3.7.4"
  }
 },
 "nbformat": 4,
 "nbformat_minor": 2
}
